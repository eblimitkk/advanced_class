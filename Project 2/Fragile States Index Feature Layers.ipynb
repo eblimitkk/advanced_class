{
 "cells": [
  {
   "cell_type": "code",
   "execution_count": 1,
   "metadata": {},
   "outputs": [],
   "source": [
    "import pandas as pd\n",
    "import requests"
   ]
  },
  {
   "cell_type": "code",
   "execution_count": 2,
   "metadata": {},
   "outputs": [],
   "source": [
    "import json"
   ]
  },
  {
   "cell_type": "code",
   "execution_count": 3,
   "metadata": {},
   "outputs": [
    {
     "name": "stdout",
     "output_type": "stream",
     "text": [
      "Enter password: ········\n"
     ]
    }
   ],
   "source": [
    "from IPython.display import display\n",
    "from arcgis.gis import GIS\n",
    "import os\n",
    "gis = GIS('http://slustl.maps.arcgis.com/home', 'kevineblimit_slustl')"
   ]
  },
  {
   "cell_type": "code",
   "execution_count": 9,
   "metadata": {},
   "outputs": [],
   "source": [
    "classed_size_renderer = { \"renderer\": \"ClassedSizeRenderer\", \"field_name\":\"Total\"}"
   ]
  },
  {
   "cell_type": "code",
   "execution_count": 18,
   "metadata": {},
   "outputs": [
    {
     "name": "stdout",
     "output_type": "stream",
     "text": [
      "looking at 2006\n",
      "Importing\n",
      "Publishing\n",
      "looking at 2007\n",
      "Importing\n",
      "Publishing\n",
      "looking at 2008\n",
      "Importing\n",
      "Publishing\n",
      "looking at 2009\n",
      "Importing\n",
      "Publishing\n",
      "looking at 2010\n",
      "Importing\n",
      "Publishing\n",
      "looking at 2011\n",
      "Importing\n",
      "Publishing\n",
      "looking at 2012\n",
      "Importing\n",
      "Publishing\n",
      "looking at 2013\n",
      "Importing\n",
      "Publishing\n",
      "looking at 2014\n",
      "Importing\n",
      "Publishing\n"
     ]
    }
   ],
   "source": [
    "year_list = ['2006', '2007','2008', '2009', '2010', '2011', '2012', '2013', '2014']\n",
    "for c in year_list:\n",
    "    print('looking at ' + c)\n",
    "    df = pd.read_csv(r'C:\\Users\\eblimitkk\\Desktop\\GIS5091\\advanced_class\\Project 2\\fsi-' + c + '.csv')\n",
    "    print(\"Importing\")\n",
    "    asylum_stats = gis.content.import_data(df, {\"Address\" : \"Country\"})\n",
    "    print(\"Publishing\")\n",
    "    item_properties = {\n",
    "        \"title\": \"Fragile States Index \" + c,\n",
    "        \"tags\" : \"FragileStates\", \n",
    "        \"snippet\": \" Fragile\",\n",
    "        \"description\": \"A very neat description\",\n",
    "        \"text\": json.dumps({\"featureCollection\": {\"layers\": [dict(asylum_stats.layer)]}}),\n",
    "        \"type\": \"Feature Collection\",\n",
    "        \"typeKeywords\": \"Data, Feature Collection, Singlelayer\"\n",
    "    }\n",
    "\n",
    "    item = gis.content.add(item_properties)\n",
    "    item.share(everyone=True)"
   ]
  },
  {
   "cell_type": "code",
   "execution_count": 16,
   "metadata": {},
   "outputs": [
    {
     "name": "stdout",
     "output_type": "stream",
     "text": [
      "[<Item title:\"Fragile States Index 2013 LL\" type:CSV owner:laurenlovato_slustl>, <Item title:\"Fragile States Index 2014\" type:Feature Layer Collection owner:emmaleeblackwood>, <Item title:\"Fragile States Index 2015\" type:Feature Collection owner:emmaleeblackwood>, <Item title:\"Map of Fragile States Index Data, 2006-2018 LL (for Story Map)\" type:Web Map owner:laurenlovato_slustl>, <Item title:\"Fragile States Index 2011 LL\" type:Feature Layer Collection owner:laurenlovato_slustl>, <Item title:\"Fragile States Index 2018 LL\" type:Feature Layer Collection owner:laurenlovato_slustl>, <Item title:\"Fragile States Index2013\" type:Feature Collection owner:kevineblimit_slustl>, <Item title:\"Fragile States Index 2014\" type:Feature Collection owner:emmaleeblackwood>, <Item title:\"Fragile States Index 2018\" type:Feature Collection owner:emmaleeblackwood>, <Item title:\"Fragile States Index 2015\" type:Feature Layer Collection owner:emmaleeblackwood>]\n",
      "<Item title:\"Fragile States Index 2013 LL\" type:CSV owner:laurenlovato_slustl>\n",
      "<Item title:\"Fragile States Index 2014\" type:Feature Layer Collection owner:emmaleeblackwood>\n",
      "<Item title:\"Fragile States Index 2015\" type:Feature Collection owner:emmaleeblackwood>\n",
      "<Item title:\"Map of Fragile States Index Data, 2006-2018 LL (for Story Map)\" type:Web Map owner:laurenlovato_slustl>\n",
      "<Item title:\"Fragile States Index 2011 LL\" type:Feature Layer Collection owner:laurenlovato_slustl>\n",
      "<Item title:\"Fragile States Index 2018 LL\" type:Feature Layer Collection owner:laurenlovato_slustl>\n",
      "<Item title:\"Fragile States Index2013\" type:Feature Collection owner:kevineblimit_slustl>\n",
      "<Item title:\"Fragile States Index 2014\" type:Feature Collection owner:emmaleeblackwood>\n",
      "<Item title:\"Fragile States Index 2018\" type:Feature Collection owner:emmaleeblackwood>\n",
      "<Item title:\"Fragile States Index 2015\" type:Feature Layer Collection owner:emmaleeblackwood>\n"
     ]
    }
   ],
   "source": [
    "items = gis.content.search(\"Fragile\")\n",
    "print(items)\n",
    "for it in items:\n",
    "    print(it)\n",
    "    #map_layer.add_layer(it)"
   ]
  },
  {
   "cell_type": "code",
   "execution_count": null,
   "metadata": {},
   "outputs": [],
   "source": []
  }
 ],
 "metadata": {
  "kernelspec": {
   "display_name": "Python 3",
   "language": "python",
   "name": "python3"
  },
  "language_info": {
   "codemirror_mode": {
    "name": "ipython",
    "version": 3
   },
   "file_extension": ".py",
   "mimetype": "text/x-python",
   "name": "python",
   "nbconvert_exporter": "python",
   "pygments_lexer": "ipython3",
   "version": "3.6.5"
  }
 },
 "nbformat": 4,
 "nbformat_minor": 2
}
