{
 "cells": [
  {
   "cell_type": "code",
   "execution_count": 1,
   "metadata": {},
   "outputs": [],
   "source": [
    "from arcgis.gis import GIS"
   ]
  },
  {
   "cell_type": "code",
   "execution_count": 4,
   "metadata": {},
   "outputs": [
    {
     "name": "stdout",
     "output_type": "stream",
     "text": [
      "Enter password: ········\n"
     ]
    },
    {
     "data": {
      "text/html": [
       "<div class=\"9item_container\" style=\"height: auto; overflow: hidden; border: 1px solid #cfcfcf; border-radius: 2px; background: #f6fafa; line-height: 1.21429em; padding: 10px;\">\n",
       "                    <div class=\"item_left\" style=\"width: 210px; float: left;\">\n",
       "                       <a href='http://SLUSTL.maps.arcgis.com/home/group.html?id=4ec103b5fef442b9a09bef69905b8251' target='_blank'>\n",
       "                        <img src='http://SLUSTL.maps.arcgis.com/home/images/group-no-image.png' class=\"itemThumbnail\">\n",
       "                       </a>\n",
       "                    </div>\n",
       "\n",
       "                    <div class=\"item_right\" style=\"float: none; width: auto; overflow: hidden;\">\n",
       "                        <a href='http://SLUSTL.maps.arcgis.com/home/group.html?id=4ec103b5fef442b9a09bef69905b8251' target='_blank'><b>KEVIN_Webmaps</b>\n",
       "                        </a>\n",
       "                        <br/>\n",
       "                        <br/><b>Summary</b>: Share your GPX tracks as feature layers here\n",
       "                        <br/><b>Description</b>: Group to share your landmarks and games\n",
       "                        <br/><b>Owner</b>: kevineblimit_slustl\n",
       "                        <br/><b>Created</b>: October 17, 2018\n",
       "\n",
       "                    </div>\n",
       "                </div>\n",
       "                "
      ],
      "text/plain": [
       "<Group title:\"KEVIN_Webmaps\" owner:kevineblimit_slustl>"
      ]
     },
     "execution_count": 4,
     "metadata": {},
     "output_type": "execute_result"
    }
   ],
   "source": [
    "gis = GIS('http://slustl.maps.arcgis.com/home', 'kevineblimit_slustl')\n",
    "geocaching_group = gis.groups.create(title='KEVIN_Webmaps',\n",
    "                                    tags = 'hobby, geocaching, gps, hide n seek',\n",
    "                                    description = 'Group to share your landmarks and games',\n",
    "                                    snippet = 'Share your GPX tracks as feature layers here',\n",
    "                                    access = 'org',\n",
    "                                    is_invitation_only = 'False',\n",
    "                                    thumbnail = r'D:\\temp\\geocaching.jpg')\n",
    "geocaching_group"
   ]
  },
  {
   "cell_type": "code",
   "execution_count": 5,
   "metadata": {},
   "outputs": [
    {
     "name": "stdout",
     "output_type": "stream",
     "text": [
      "Enter password: ········\n"
     ]
    },
    {
     "data": {
      "text/html": [
       "<div class=\"9item_container\" style=\"height: auto; overflow: hidden; border: 1px solid #cfcfcf; border-radius: 2px; background: #f6fafa; line-height: 1.21429em; padding: 10px;\">\n",
       "                    <div class=\"item_left\" style=\"width: 210px; float: left;\">\n",
       "                       <a href='http://SLUSTL.maps.arcgis.com/home/group.html?id=7bb6b74eae1f4910816f62d992c4046d' target='_blank'>\n",
       "                        <img src='http://SLUSTL.maps.arcgis.com/home/images/group-no-image.png' class=\"itemThumbnail\">\n",
       "                       </a>\n",
       "                    </div>\n",
       "\n",
       "                    <div class=\"item_right\" style=\"float: none; width: auto; overflow: hidden;\">\n",
       "                        <a href='http://SLUSTL.maps.arcgis.com/home/group.html?id=7bb6b74eae1f4910816f62d992c4046d' target='_blank'><b>KEVIN_Feature_Services</b>\n",
       "                        </a>\n",
       "                        <br/>\n",
       "                        <br/><b>Summary</b>: Share your GPX tracks as feature layers here\n",
       "                        <br/><b>Description</b>: Feature services group\n",
       "                        <br/><b>Owner</b>: kevineblimit_slustl\n",
       "                        <br/><b>Created</b>: October 17, 2018\n",
       "\n",
       "                    </div>\n",
       "                </div>\n",
       "                "
      ],
      "text/plain": [
       "<Group title:\"KEVIN_Feature_Services\" owner:kevineblimit_slustl>"
      ]
     },
     "execution_count": 5,
     "metadata": {},
     "output_type": "execute_result"
    }
   ],
   "source": [
    "gis = GIS('http://slustl.maps.arcgis.com/home', 'kevineblimit_slustl')\n",
    "geocaching_group = gis.groups.create(title='KEVIN_Feature_Services',\n",
    "                                    tags = 'feature_services',\n",
    "                                    description = 'Feature services group',\n",
    "                                    snippet = 'Share your GPX tracks as feature layers here',\n",
    "                                    access = 'org',\n",
    "                                    is_invitation_only = 'False',\n",
    "                                    thumbnail = r'D:\\temp\\geocaching.jpg')\n",
    "geocaching_group"
   ]
  },
  {
   "cell_type": "code",
   "execution_count": 6,
   "metadata": {},
   "outputs": [
    {
     "name": "stdout",
     "output_type": "stream",
     "text": [
      "Enter password: ········\n"
     ]
    },
    {
     "data": {
      "text/html": [
       "<div class=\"9item_container\" style=\"height: auto; overflow: hidden; border: 1px solid #cfcfcf; border-radius: 2px; background: #f6fafa; line-height: 1.21429em; padding: 10px;\">\n",
       "                    <div class=\"item_left\" style=\"width: 210px; float: left;\">\n",
       "                       <a href='http://SLUSTL.maps.arcgis.com/home/group.html?id=2513a925c29d4ca98d6eedf2dd13c6f4' target='_blank'>\n",
       "                        <img src='http://SLUSTL.maps.arcgis.com/home/images/group-no-image.png' class=\"itemThumbnail\">\n",
       "                       </a>\n",
       "                    </div>\n",
       "\n",
       "                    <div class=\"item_right\" style=\"float: none; width: auto; overflow: hidden;\">\n",
       "                        <a href='http://SLUSTL.maps.arcgis.com/home/group.html?id=2513a925c29d4ca98d6eedf2dd13c6f4' target='_blank'><b>KEVIN_All_Content</b>\n",
       "                        </a>\n",
       "                        <br/>\n",
       "                        <br/><b>Summary</b>: Share your GPX tracks as feature layers here\n",
       "                        <br/><b>Description</b>: All content group\n",
       "                        <br/><b>Owner</b>: kevineblimit_slustl\n",
       "                        <br/><b>Created</b>: October 17, 2018\n",
       "\n",
       "                    </div>\n",
       "                </div>\n",
       "                "
      ],
      "text/plain": [
       "<Group title:\"KEVIN_All_Content\" owner:kevineblimit_slustl>"
      ]
     },
     "execution_count": 6,
     "metadata": {},
     "output_type": "execute_result"
    }
   ],
   "source": [
    "gis = GIS('http://slustl.maps.arcgis.com/home', 'kevineblimit_slustl')\n",
    "geocaching_group = gis.groups.create(title='KEVIN_All_Content',\n",
    "                                    tags = 'all_content',\n",
    "                                    description = 'All content group',\n",
    "                                    snippet = 'Share your GPX tracks as feature layers here',\n",
    "                                    access = 'org',\n",
    "                                    is_invitation_only = 'False',\n",
    "                                    thumbnail = r'D:\\temp\\geocaching.jpg')\n",
    "geocaching_group"
   ]
  },
  {
   "cell_type": "code",
   "execution_count": null,
   "metadata": {},
   "outputs": [],
   "source": []
  }
 ],
 "metadata": {
  "kernelspec": {
   "display_name": "Python 3",
   "language": "python",
   "name": "python3"
  },
  "language_info": {
   "codemirror_mode": {
    "name": "ipython",
    "version": 3
   },
   "file_extension": ".py",
   "mimetype": "text/x-python",
   "name": "python",
   "nbconvert_exporter": "python",
   "pygments_lexer": "ipython3",
   "version": "3.6.5"
  }
 },
 "nbformat": 4,
 "nbformat_minor": 2
}
